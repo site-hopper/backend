{
 "cells": [
  {
   "cell_type": "code",
   "execution_count": 1,
   "metadata": {},
   "outputs": [],
   "source": [
    "\n",
    "import firebase_admin\n",
    "from firebase_admin import credentials\n",
    "from firebase_admin import db\n",
    "from firebase_admin import auth\n",
    "import json\n",
    "import requests\n",
    "import Auth\n",
    "from firebase_admin import firestore"
   ]
  },
  {
   "cell_type": "code",
   "execution_count": 2,
   "metadata": {},
   "outputs": [
    {
     "data": {
      "text/plain": [
       "<firebase_admin.App at 0x1e6296e4488>"
      ]
     },
     "execution_count": 2,
     "metadata": {},
     "output_type": "execute_result"
    }
   ],
   "source": [
    "cred = credentials.Certificate(\"F:\\\\personal project'\\\\backend\\\\site-hopper-adminsdk.json\")\n",
    "\n",
    "firebase_admin.initialize_app(cred)\n"
   ]
  },
  {
   "cell_type": "code",
   "execution_count": 3,
   "metadata": {},
   "outputs": [],
   "source": [
    "db = firestore.client()"
   ]
  },
  {
   "cell_type": "code",
   "execution_count": 4,
   "metadata": {},
   "outputs": [
    {
     "name": "stdout",
     "output_type": "stream",
     "text": [
      "uid1 => {'name': 'Tushar'}\n",
      "uid2 => {'name': 'Akshay'}\n",
      "uid3 => {'name': 'ellon'}\n"
     ]
    }
   ],
   "source": [
    "users_ref = db.collection(u'users')\n",
    "docs = users_ref.stream()\n",
    "\n",
    "for doc in docs:\n",
    "    print(f'{doc.id} => {doc.to_dict()}')\n",
    "  "
   ]
  },
  {
   "cell_type": "code",
   "execution_count": 5,
   "metadata": {},
   "outputs": [
    {
     "name": "stdout",
     "output_type": "stream",
     "text": [
      "stackoverflow.com => {}\n",
      "youtube.com => {}\n"
     ]
    }
   ],
   "source": [
    "# Note: Use of CollectionRef stream() is prefered to get()\n",
    "docs = db.collection(u'domains').stream()\n",
    "\n",
    "for doc in docs:\n",
    "    print(f'{doc.id} => {doc.to_dict()}')"
   ]
  },
  {
   "cell_type": "markdown",
   "metadata": {},
   "source": [
    "### Get top comments for specific post in specific domain order by rating \n"
   ]
  },
  {
   "cell_type": "code",
   "execution_count": 6,
   "metadata": {},
   "outputs": [
    {
     "name": "stdout",
     "output_type": "stream",
     "text": [
      "uid2 => {'created_on': DatetimeWithNanoseconds(2020, 10, 10, 15, 40, tzinfo=<UTC>), 'parent': <google.cloud.firestore_v1.document.DocumentReference object at 0x000001E627A2B608>, 'rating': 1, 'body': 'I also dont know', 'user': <google.cloud.firestore_v1.document.DocumentReference object at 0x000001E627A2BE88>}\n",
      "uid1 => {'created_on': DatetimeWithNanoseconds(2020, 10, 10, 15, 30, tzinfo=<UTC>), 'list_reply': [<google.cloud.firestore_v1.document.DocumentReference object at 0x000001E62985E608>, <google.cloud.firestore_v1.document.DocumentReference object at 0x000001E62985E908>], 'rating': 3, 'body': 'what is this', 'user': <google.cloud.firestore_v1.document.DocumentReference object at 0x000001E62985E248>}\n",
      "uid3 => {'created_on': DatetimeWithNanoseconds(2020, 10, 10, 15, 41, tzinfo=<UTC>), 'parent': <google.cloud.firestore_v1.document.DocumentReference object at 0x000001E62985CFC8>, 'rating': 5, 'body': 'lets go in space', 'user': <google.cloud.firestore_v1.document.DocumentReference object at 0x000001E6296331C8>}\n"
     ]
    }
   ],
   "source": [
    "query = db.collection('domains').document('stackoverflow.com').collection(\"routes\").document(\"question::1\").collection(\"comments\").order_by(\"rating\").limit(3)\n",
    "docs = query.stream()\n",
    "for doc in docs:\n",
    "    print(f'{doc.id} => {doc.to_dict()}')"
   ]
  },
  {
   "cell_type": "markdown",
   "metadata": {},
   "source": [
    "### Get top reply for specific comment order by time"
   ]
  },
  {
   "cell_type": "code",
   "execution_count": 7,
   "metadata": {},
   "outputs": [
    {
     "name": "stdout",
     "output_type": "stream",
     "text": [
      "I also dont know\n"
     ]
    }
   ],
   "source": [
    "doc = db.collection('domains').document('stackoverflow.com')\\\n",
    ".collection(\"routes\").document(\"question::1\").collection(\"comments\").document(\"uid1\")\n",
    "\n",
    "comment_dict = doc.get().to_dict()\n",
    "list_reply = comment_dict[\"list_reply\"]\n",
    "for reply in list_reply[:1]:\n",
    "    print(reply.get().to_dict()[\"body\"])\n"
   ]
  },
  {
   "cell_type": "markdown",
   "metadata": {},
   "source": [
    "### Get top comments and reply by specific user for all posts in all domain."
   ]
  },
  {
   "cell_type": "code",
   "execution_count": 32,
   "metadata": {},
   "outputs": [
    {
     "name": "stdout",
     "output_type": "stream",
     "text": [
      "parent : what is this\n",
      "Body : I also dont know\n",
      "{'created_on': DatetimeWithNanoseconds(2020, 10, 10, 15, 40, tzinfo=<UTC>), 'parent': <google.cloud.firestore_v1.document.DocumentReference object at 0x000001E62985E348>, 'rating': 1, 'body': 'I also dont know', 'user': <google.cloud.firestore_v1.document.DocumentReference object at 0x000001E62985E188>}\n",
      "parent : something is fishy\n",
      "Body : you are dumb\n",
      "{'parent': <google.cloud.firestore_v1.document.DocumentReference object at 0x000001E6298D5A88>, 'rating': 5, 'body': 'you are dumb', 'user': <google.cloud.firestore_v1.document.DocumentReference object at 0x000001E6298D5D08>}\n",
      "parent : this is awesome\n",
      "Body : yes it is\n",
      "{'parent': <google.cloud.firestore_v1.document.DocumentReference object at 0x000001E6298D5C08>, 'rating': 4, 'body': 'yes it is', 'user': <google.cloud.firestore_v1.document.DocumentReference object at 0x000001E6298D5B48>}\n"
     ]
    }
   ],
   "source": [
    "doc = db.collection('users').document('uid2')\n",
    "\n",
    "user_dict = doc.get().to_dict()\n",
    "list_comment = user_dict[\"list_comment\"]\n",
    "\n",
    "for comment in list_comment[:3]:\n",
    "    parent = comment.get().to_dict().get(\"parent\",None)\n",
    "    if parent is not None:\n",
    "        print(\"parent : \"+parent.get().to_dict()[\"body\"])\n",
    "        \n",
    "    \n",
    "    print(\"Body : \"+comment.get().to_dict()[\"body\"])\n",
    "    print(comment.get().to_dict())"
   ]
  },
  {
   "cell_type": "code",
   "execution_count": 15,
   "metadata": {},
   "outputs": [
    {
     "data": {
      "text/plain": [
       "3"
      ]
     },
     "execution_count": 15,
     "metadata": {},
     "output_type": "execute_result"
    }
   ],
   "source": []
  },
  {
   "cell_type": "code",
   "execution_count": null,
   "metadata": {},
   "outputs": [],
   "source": []
  }
 ],
 "metadata": {
  "kernelspec": {
   "display_name": "Python 3",
   "language": "python",
   "name": "python3"
  },
  "language_info": {
   "codemirror_mode": {
    "name": "ipython",
    "version": 3
   },
   "file_extension": ".py",
   "mimetype": "text/x-python",
   "name": "python",
   "nbconvert_exporter": "python",
   "pygments_lexer": "ipython3",
   "version": "3.7.6"
  }
 },
 "nbformat": 4,
 "nbformat_minor": 4
}
