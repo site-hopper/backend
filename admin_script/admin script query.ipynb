{
 "cells": [
  {
   "cell_type": "code",
   "execution_count": 25,
   "metadata": {
    "collapsed": true,
    "jupyter": {
     "outputs_hidden": true
    }
   },
   "outputs": [
    {
     "name": "stdout",
     "output_type": "stream",
     "text": [
      "Collecting firebase_admin\n",
      "  Using cached firebase_admin-4.4.0-py3-none-any.whl (111 kB)\n",
      "Collecting google-cloud-firestore>=1.4.0; platform_python_implementation != \"PyPy\"\n",
      "  Using cached google_cloud_firestore-1.9.0-py2.py3-none-any.whl (344 kB)\n",
      "Collecting cachecontrol>=0.12.6\n",
      "  Using cached CacheControl-0.12.6-py2.py3-none-any.whl (19 kB)\n",
      "Collecting google-cloud-storage>=1.18.0\n",
      "  Using cached google_cloud_storage-1.31.2-py2.py3-none-any.whl (88 kB)\n",
      "Collecting google-api-python-client>=1.7.8\n",
      "  Using cached google_api_python_client-1.12.3-py2.py3-none-any.whl (61 kB)\n",
      "Collecting google-api-core[grpc]<2.0.0dev,>=1.14.0; platform_python_implementation != \"PyPy\"\n",
      "  Using cached google_api_core-1.22.4-py2.py3-none-any.whl (91 kB)\n",
      "Collecting google-cloud-core<2.0dev,>=1.4.1\n",
      "  Using cached google_cloud_core-1.4.3-py2.py3-none-any.whl (27 kB)\n",
      "Requirement already satisfied: pytz in /home/tushar/hdd/.virtualenv/py3/lib/python3.6/site-packages (from google-cloud-firestore>=1.4.0; platform_python_implementation != \"PyPy\"->firebase_admin) (2020.1)\n",
      "Collecting msgpack>=0.5.2\n",
      "  Downloading msgpack-1.0.0-cp36-cp36m-manylinux1_x86_64.whl (274 kB)\n",
      "\u001b[K     |████████████████████████████████| 274 kB 5.2 MB/s eta 0:00:01\n",
      "\u001b[?25hRequirement already satisfied: requests in /home/tushar/hdd/.virtualenv/py3/lib/python3.6/site-packages (from cachecontrol>=0.12.6->firebase_admin) (2.23.0)\n",
      "Collecting google-resumable-media<2.0dev,>=1.0.0\n",
      "  Using cached google_resumable_media-1.1.0-py2.py3-none-any.whl (75 kB)\n",
      "Requirement already satisfied: google-auth<2.0dev,>=1.11.0 in /home/tushar/hdd/.virtualenv/py3/lib/python3.6/site-packages (from google-cloud-storage>=1.18.0->firebase_admin) (1.11.0)\n",
      "Requirement already satisfied: six<2dev,>=1.13.0 in /home/tushar/hdd/.virtualenv/py3/lib/python3.6/site-packages/six-1.14.0-py3.6.egg (from google-api-python-client>=1.7.8->firebase_admin) (1.14.0)\n",
      "Collecting google-auth-httplib2>=0.0.3\n",
      "  Using cached google_auth_httplib2-0.0.4-py2.py3-none-any.whl (9.1 kB)\n",
      "Collecting uritemplate<4dev,>=3.0.0\n",
      "  Using cached uritemplate-3.0.1-py2.py3-none-any.whl (15 kB)\n",
      "Collecting httplib2<1dev,>=0.15.0\n",
      "  Using cached httplib2-0.18.1-py3-none-any.whl (95 kB)\n",
      "Requirement already satisfied: setuptools>=34.0.0 in /home/tushar/hdd/.virtualenv/py3/lib/python3.6/site-packages (from google-api-core[grpc]<2.0.0dev,>=1.14.0; platform_python_implementation != \"PyPy\"->firebase_admin) (45.2.0)\n",
      "Collecting protobuf>=3.12.0\n",
      "  Downloading protobuf-3.13.0-cp36-cp36m-manylinux1_x86_64.whl (1.3 MB)\n",
      "\u001b[K     |████████████████████████████████| 1.3 MB 3.7 MB/s eta 0:00:01\n",
      "\u001b[?25hCollecting googleapis-common-protos<2.0dev,>=1.6.0\n",
      "  Using cached googleapis_common_protos-1.52.0-py2.py3-none-any.whl (100 kB)\n",
      "Collecting grpcio<2.0dev,>=1.29.0; extra == \"grpc\"\n",
      "  Downloading grpcio-1.32.0-cp36-cp36m-manylinux2014_x86_64.whl (3.8 MB)\n",
      "\u001b[K     |████████████████████████████████| 3.8 MB 521 kB/s eta 0:00:01\n",
      "\u001b[?25hRequirement already satisfied: urllib3!=1.25.0,!=1.25.1,<1.26,>=1.21.1 in /home/tushar/hdd/.virtualenv/py3/lib/python3.6/site-packages (from requests->cachecontrol>=0.12.6->firebase_admin) (1.25.8)\n",
      "Requirement already satisfied: chardet<4,>=3.0.2 in /home/tushar/hdd/.virtualenv/py3/lib/python3.6/site-packages (from requests->cachecontrol>=0.12.6->firebase_admin) (3.0.4)\n",
      "Requirement already satisfied: idna<3,>=2.5 in /home/tushar/hdd/.virtualenv/py3/lib/python3.6/site-packages (from requests->cachecontrol>=0.12.6->firebase_admin) (2.8)\n",
      "Requirement already satisfied: certifi>=2017.4.17 in /home/tushar/hdd/.virtualenv/py3/lib/python3.6/site-packages (from requests->cachecontrol>=0.12.6->firebase_admin) (2019.11.28)\n",
      "Collecting google-crc32c<2.0dev,>=1.0; python_version >= \"3.5\"\n",
      "  Downloading google_crc32c-1.0.0-cp36-cp36m-manylinux2010_x86_64.whl (39 kB)\n",
      "Requirement already satisfied: pyasn1-modules>=0.2.1 in /home/tushar/hdd/.virtualenv/py3/lib/python3.6/site-packages (from google-auth<2.0dev,>=1.11.0->google-cloud-storage>=1.18.0->firebase_admin) (0.2.8)\n",
      "Requirement already satisfied: rsa<4.1,>=3.1.4 in /home/tushar/hdd/.virtualenv/py3/lib/python3.6/site-packages (from google-auth<2.0dev,>=1.11.0->google-cloud-storage>=1.18.0->firebase_admin) (3.4.2)\n",
      "Requirement already satisfied: cachetools<5.0,>=2.0.0 in /home/tushar/hdd/.virtualenv/py3/lib/python3.6/site-packages (from google-auth<2.0dev,>=1.11.0->google-cloud-storage>=1.18.0->firebase_admin) (4.0.0)\n",
      "Requirement already satisfied: cffi>=1.0.0 in /home/tushar/hdd/.virtualenv/py3/lib/python3.6/site-packages (from google-crc32c<2.0dev,>=1.0; python_version >= \"3.5\"->google-resumable-media<2.0dev,>=1.0.0->google-cloud-storage>=1.18.0->firebase_admin) (1.14.2)\n",
      "Requirement already satisfied: pyasn1<0.5.0,>=0.4.6 in /home/tushar/hdd/.virtualenv/py3/lib/python3.6/site-packages (from pyasn1-modules>=0.2.1->google-auth<2.0dev,>=1.11.0->google-cloud-storage>=1.18.0->firebase_admin) (0.4.8)\n",
      "Requirement already satisfied: pycparser in /home/tushar/hdd/.virtualenv/py3/lib/python3.6/site-packages (from cffi>=1.0.0->google-crc32c<2.0dev,>=1.0; python_version >= \"3.5\"->google-resumable-media<2.0dev,>=1.0.0->google-cloud-storage>=1.18.0->firebase_admin) (2.20)\n",
      "\u001b[31mERROR: google-api-core 1.22.4 has requirement google-auth<2.0dev,>=1.21.1, but you'll have google-auth 1.11.0 which is incompatible.\u001b[0m\n",
      "\u001b[31mERROR: google-api-python-client 1.12.3 has requirement google-auth>=1.16.0, but you'll have google-auth 1.11.0 which is incompatible.\u001b[0m\n",
      "Installing collected packages: protobuf, googleapis-common-protos, grpcio, google-api-core, google-cloud-core, google-cloud-firestore, msgpack, cachecontrol, google-crc32c, google-resumable-media, google-cloud-storage, httplib2, google-auth-httplib2, uritemplate, google-api-python-client, firebase-admin\n",
      "  Attempting uninstall: protobuf\n",
      "    Found existing installation: protobuf 3.11.3\n",
      "    Uninstalling protobuf-3.11.3:\n",
      "      Successfully uninstalled protobuf-3.11.3\n",
      "  Attempting uninstall: grpcio\n",
      "    Found existing installation: grpcio 1.27.1\n",
      "    Uninstalling grpcio-1.27.1:\n",
      "      Successfully uninstalled grpcio-1.27.1\n",
      "Successfully installed cachecontrol-0.12.6 firebase-admin-4.4.0 google-api-core-1.22.4 google-api-python-client-1.12.3 google-auth-httplib2-0.0.4 google-cloud-core-1.4.3 google-cloud-firestore-1.9.0 google-cloud-storage-1.31.2 google-crc32c-1.0.0 google-resumable-media-1.1.0 googleapis-common-protos-1.52.0 grpcio-1.32.0 httplib2-0.18.1 msgpack-1.0.0 protobuf-3.13.0 uritemplate-3.0.1\n",
      "\u001b[33mWARNING: You are using pip version 20.0.2; however, version 20.2.3 is available.\n",
      "You should consider upgrading via the '/home/tushar/hdd/.virtualenv/py3/bin/python -m pip install --upgrade pip' command.\u001b[0m\n"
     ]
    }
   ],
   "source": [
    "!pip install firebase_admin"
   ]
  },
  {
   "cell_type": "code",
   "execution_count": 1,
   "metadata": {},
   "outputs": [],
   "source": [
    "\n",
    "import firebase_admin\n",
    "from firebase_admin import credentials\n",
    "from firebase_admin import db\n",
    "from firebase_admin import auth\n",
    "from firebase_admin import firestore"
   ]
  },
  {
   "cell_type": "code",
   "execution_count": 3,
   "metadata": {},
   "outputs": [
    {
     "data": {
      "text/plain": [
       "<firebase_admin.App at 0x7ff1e40cb400>"
      ]
     },
     "execution_count": 3,
     "metadata": {},
     "output_type": "execute_result"
    }
   ],
   "source": [
    "cred = credentials.Certificate(\"../site-hopper-adminsdk.json\")\n",
    "firebase_admin.initialize_app(cred)\n"
   ]
  },
  {
   "cell_type": "code",
   "execution_count": 4,
   "metadata": {},
   "outputs": [],
   "source": [
    "db = firestore.client()"
   ]
  },
  {
   "cell_type": "code",
   "execution_count": 29,
   "metadata": {},
   "outputs": [
    {
     "name": "stdout",
     "output_type": "stream",
     "text": [
      "uid1 => {'name': 'Tushar', 'list_comment': [<google.cloud.firestore_v1.document.DocumentReference object at 0x7f3ab090cc50>, <google.cloud.firestore_v1.document.DocumentReference object at 0x7f3ab090c9e8>, <google.cloud.firestore_v1.document.DocumentReference object at 0x7f3ad3879ac8>]}\n",
      "uid2 => {'list_comment': [<google.cloud.firestore_v1.document.DocumentReference object at 0x7f3ab090ccf8>, <google.cloud.firestore_v1.document.DocumentReference object at 0x7f3ab090cbe0>, <google.cloud.firestore_v1.document.DocumentReference object at 0x7f3ab090c978>], 'name': 'Akshay'}\n",
      "uid3 => {'list_comment': [<google.cloud.firestore_v1.document.DocumentReference object at 0x7f3ab090c9e8>, <google.cloud.firestore_v1.document.DocumentReference object at 0x7f3ab090ca90>], 'name': 'ellon'}\n"
     ]
    }
   ],
   "source": [
    "users_ref = db.collection(u'users')\n",
    "docs = users_ref.stream()\n",
    "\n",
    "for doc in docs:\n",
    "    print(f'{doc.id} => {doc.to_dict()}')\n",
    "  "
   ]
  },
  {
   "cell_type": "code",
   "execution_count": 5,
   "metadata": {},
   "outputs": [
    {
     "name": "stdout",
     "output_type": "stream",
     "text": [
      "stackoverflow.com => {}\n",
      "youtube.com => {}\n"
     ]
    }
   ],
   "source": [
    "# Note: Use of CollectionRef stream() is prefered to get()\n",
    "docs = db.collection(u'domains').stream()\n",
    "\n",
    "for doc in docs:\n",
    "    print(f'{doc.id} => {doc.to_dict()}')"
   ]
  },
  {
   "cell_type": "markdown",
   "metadata": {},
   "source": [
    "### Get all comments"
   ]
  },
  {
   "cell_type": "code",
   "execution_count": 35,
   "metadata": {},
   "outputs": [
    {
     "name": "stdout",
     "output_type": "stream",
     "text": [
      "uid1 => what is this rating 3 created on: 2020-10-10 15:30:00+00:00\n",
      "\t replies 2\n",
      "\t uid2 => I also dont know created on: 2020-10-10 15:40:00+00:00\n",
      "\t uid3 => lets go in space created on: 2020-10-10 15:41:00+00:00\n",
      "uid2 => I also dont know rating 1 created on: 2020-10-10 15:40:00+00:00\n",
      "uid3 => lets go in space rating 5 created on: 2020-10-10 15:41:00+00:00\n"
     ]
    }
   ],
   "source": [
    "query = db.collection('domains').document('stackoverflow.com').collection(\"routes\").\\\n",
    "    document(\"question::1\").collection(\"comments\")\n",
    "docs = query.stream()\n",
    "for doc in docs:\n",
    "    comment = doc.to_dict()\n",
    "    print(f'{doc.id} => {comment[\"body\"]} rating {comment[\"rating\"]} created on: {comment.get(\"created_on\",\"\")}')\n",
    "    if len(comment.get(\"list_reply\",[]))>0:\n",
    "        list_reply = comment.get('list_reply')\n",
    "        print(f\"\\t replies {len(list_reply)}\")\n",
    "        for reply in list_reply:\n",
    "            comment = reply.get().to_dict()\n",
    "            print(f'\\t {reply.id} => {comment[\"body\"]} created on: {comment.get(\"created_on\",\"\")}')\n",
    "    "
   ]
  },
  {
   "cell_type": "code",
   "execution_count": 45,
   "metadata": {},
   "outputs": [
    {
     "name": "stdout",
     "output_type": "stream",
     "text": [
      "uid4 => something is fishy created on: \n",
      "\t replies 1\n",
      "\t uid5 => you are dumb created on: \n"
     ]
    }
   ],
   "source": [
    "query = db.collection('domains').document('stackoverflow.com').collection(\"routes\").\\\n",
    "    document(\"question::2\").collection(\"comments\").where(u\"parent\",u\"==\",\"\")\n",
    "docs = query.stream()\n",
    "for doc in docs:\n",
    "    comment = doc.to_dict()\n",
    "    print(f'{doc.id} => {comment[\"body\"]} created on: {comment.get(\"created_on\",\"\")}')\n",
    "    if len(comment.get(\"list_reply\",[]))>0:\n",
    "        list_reply = comment.get('list_reply')\n",
    "        print(f\"\\t replies {len(list_reply)}\")\n",
    "        for reply in list_reply:\n",
    "            comment = reply.get().to_dict()\n",
    "            print(f'\\t {reply.id} => {comment[\"body\"]} created on: {comment.get(\"created_on\",\"\")}')\n",
    "    "
   ]
  },
  {
   "cell_type": "code",
   "execution_count": 57,
   "metadata": {},
   "outputs": [
    {
     "name": "stdout",
     "output_type": "stream",
     "text": [
      "158e78489c504940b410ba92fa7982e5 => just trying created on: 2020-10-11 13:15:45.396348+00:00\n",
      "{'parent': None, 'body': 'just trying', 'rating': 0, 'list_reply': None, 'created_on': DatetimeWithNanoseconds(2020, 10, 11, 13, 15, 45, 396348, tzinfo=<UTC>), 'user': {'id': 'uid1', 'name': 'Tushar'}}\n",
      "{'commenter': {'name': 'Akshay', 'id': 'uid2'}, 'rating': 0, 'domain': 'facebook.com', 'body': 'reply 1', 'list_parent': ['158e78489c504940b410ba92fa7982e5'], 'route': 'tushr'}\n",
      "d054518a8f1a466d86f107d0204994f9 => new comment created on: 2020-10-11 14:09:31.921230+00:00\n",
      "{'user': {'name': 'Akshay', 'id': 'uid2'}, 'list_reply': None, 'created_on': DatetimeWithNanoseconds(2020, 10, 11, 14, 9, 31, 921230, tzinfo=<UTC>), 'body': 'new comment', 'parent': None, 'rating': 0}\n"
     ]
    }
   ],
   "source": [
    "query = db.collection('domains').document('facebook.com').collection(\"routes\").\\\n",
    "    document(\"tushr\").collection(\"comments\")\n",
    "docs = query.stream()\n",
    "for doc in docs:\n",
    "    comment = doc.to_dict()\n",
    "    print(f'{doc.id} => {comment[\"body\"]} created on: {comment.get(\"created_on\",\"\")}')\n",
    "    print(comment)\n",
    "    reply_collection = query.document(doc.id).collection(\"replies\").get()\n",
    "    if len(reply_collection)>0:\n",
    "        for reply in reply_collection:\n",
    "            print(reply.to_dict())"
   ]
  },
  {
   "cell_type": "markdown",
   "metadata": {},
   "source": [
    "### Get top comments for specific post in specific domain order by rating \n"
   ]
  },
  {
   "cell_type": "code",
   "execution_count": 6,
   "metadata": {},
   "outputs": [
    {
     "name": "stdout",
     "output_type": "stream",
     "text": [
      "uid2 => {'created_on': DatetimeWithNanoseconds(2020, 10, 10, 15, 40, tzinfo=<UTC>), 'parent': <google.cloud.firestore_v1.document.DocumentReference object at 0x000001E627A2B608>, 'rating': 1, 'body': 'I also dont know', 'user': <google.cloud.firestore_v1.document.DocumentReference object at 0x000001E627A2BE88>}\n",
      "uid1 => {'created_on': DatetimeWithNanoseconds(2020, 10, 10, 15, 30, tzinfo=<UTC>), 'list_reply': [<google.cloud.firestore_v1.document.DocumentReference object at 0x000001E62985E608>, <google.cloud.firestore_v1.document.DocumentReference object at 0x000001E62985E908>], 'rating': 3, 'body': 'what is this', 'user': <google.cloud.firestore_v1.document.DocumentReference object at 0x000001E62985E248>}\n",
      "uid3 => {'created_on': DatetimeWithNanoseconds(2020, 10, 10, 15, 41, tzinfo=<UTC>), 'parent': <google.cloud.firestore_v1.document.DocumentReference object at 0x000001E62985CFC8>, 'rating': 5, 'body': 'lets go in space', 'user': <google.cloud.firestore_v1.document.DocumentReference object at 0x000001E6296331C8>}\n"
     ]
    }
   ],
   "source": [
    "query = db.collection('domains').document('stackoverflow.com').collection(\"routes\").document(\"question::1\").collection(\"comments\").order_by(\"rating\").limit(3)\n",
    "docs = query.stream()\n",
    "for doc in docs:\n",
    "    print(f'{doc.id} => {doc.to_dict()}')"
   ]
  },
  {
   "cell_type": "markdown",
   "metadata": {},
   "source": [
    "### Get top reply for specific comment order by time"
   ]
  },
  {
   "cell_type": "code",
   "execution_count": 7,
   "metadata": {},
   "outputs": [
    {
     "name": "stdout",
     "output_type": "stream",
     "text": [
      "I also dont know\n"
     ]
    }
   ],
   "source": [
    "doc = db.collection('domains').document('stackoverflow.com')\\\n",
    ".collection(\"routes\").document(\"question::1\").collection(\"comments\").document(\"uid1\")\n",
    "\n",
    "comment_dict = doc.get().to_dict()\n",
    "list_reply = comment_dict[\"list_reply\"]\n",
    "for reply in list_reply[:1]:\n",
    "    print(reply.get().to_dict()[\"body\"])\n"
   ]
  },
  {
   "cell_type": "markdown",
   "metadata": {},
   "source": [
    "### Get top comments and reply by specific user for all posts in all domain."
   ]
  },
  {
   "cell_type": "code",
   "execution_count": 32,
   "metadata": {},
   "outputs": [
    {
     "name": "stdout",
     "output_type": "stream",
     "text": [
      "parent : what is this\n",
      "Body : I also dont know\n",
      "{'created_on': DatetimeWithNanoseconds(2020, 10, 10, 15, 40, tzinfo=<UTC>), 'parent': <google.cloud.firestore_v1.document.DocumentReference object at 0x000001E62985E348>, 'rating': 1, 'body': 'I also dont know', 'user': <google.cloud.firestore_v1.document.DocumentReference object at 0x000001E62985E188>}\n",
      "parent : something is fishy\n",
      "Body : you are dumb\n",
      "{'parent': <google.cloud.firestore_v1.document.DocumentReference object at 0x000001E6298D5A88>, 'rating': 5, 'body': 'you are dumb', 'user': <google.cloud.firestore_v1.document.DocumentReference object at 0x000001E6298D5D08>}\n",
      "parent : this is awesome\n",
      "Body : yes it is\n",
      "{'parent': <google.cloud.firestore_v1.document.DocumentReference object at 0x000001E6298D5C08>, 'rating': 4, 'body': 'yes it is', 'user': <google.cloud.firestore_v1.document.DocumentReference object at 0x000001E6298D5B48>}\n"
     ]
    }
   ],
   "source": [
    "doc = db.collection('users').document('uid2')\n",
    "\n",
    "user_dict = doc.get().to_dict()\n",
    "list_comment = user_dict[\"list_comment\"]\n",
    "\n",
    "for comment in list_comment[:3]:\n",
    "    parent = comment.get().to_dict().get(\"parent\",None)\n",
    "    if parent is not None:\n",
    "        print(\"parent : \"+parent.get().to_dict()[\"body\"])\n",
    "        \n",
    "    \n",
    "    print(\"Body : \"+comment.get().to_dict()[\"body\"])\n",
    "    print(comment.get().to_dict())"
   ]
  },
  {
   "cell_type": "code",
   "execution_count": 15,
   "metadata": {},
   "outputs": [
    {
     "data": {
      "text/plain": [
       "3"
      ]
     },
     "execution_count": 15,
     "metadata": {},
     "output_type": "execute_result"
    }
   ],
   "source": []
  },
  {
   "cell_type": "code",
   "execution_count": 40,
   "metadata": {},
   "outputs": [],
   "source": [
    "doc = db.collection(\"domain\").document(\"stackoverflow.com/routes/question::2/comments/uuid4\")"
   ]
  },
  {
   "cell_type": "code",
   "execution_count": 42,
   "metadata": {},
   "outputs": [
    {
     "name": "stdout",
     "output_type": "stream",
     "text": [
      "None\n"
     ]
    }
   ],
   "source": [
    "print(doc.get().to_dict())\n"
   ]
  },
  {
   "cell_type": "code",
   "execution_count": 43,
   "metadata": {},
   "outputs": [
    {
     "data": {
      "text/plain": [
       "<google.cloud.firestore_v1.document.DocumentReference at 0x7f3aa908d668>"
      ]
     },
     "execution_count": 43,
     "metadata": {},
     "output_type": "execute_result"
    }
   ],
   "source": [
    "doc"
   ]
  },
  {
   "cell_type": "code",
   "execution_count": 1,
   "metadata": {},
   "outputs": [],
   "source": [
    "import uuid"
   ]
  },
  {
   "cell_type": "code",
   "execution_count": 2,
   "metadata": {},
   "outputs": [],
   "source": [
    "i = uuid.uuid4()"
   ]
  },
  {
   "cell_type": "code",
   "execution_count": 6,
   "metadata": {},
   "outputs": [
    {
     "data": {
      "text/plain": [
       "UUID('f2c2cd51-bb94-45d1-93e6-d75f5c783e89')"
      ]
     },
     "execution_count": 6,
     "metadata": {},
     "output_type": "execute_result"
    }
   ],
   "source": [
    "i"
   ]
  },
  {
   "cell_type": "code",
   "execution_count": null,
   "metadata": {},
   "outputs": [],
   "source": []
  }
 ],
 "metadata": {
  "kernelspec": {
   "display_name": "Python 3",
   "language": "python",
   "name": "python3"
  },
  "language_info": {
   "codemirror_mode": {
    "name": "ipython",
    "version": 3
   },
   "file_extension": ".py",
   "mimetype": "text/x-python",
   "name": "python",
   "nbconvert_exporter": "python",
   "pygments_lexer": "ipython3",
   "version": "3.6.9"
  }
 },
 "nbformat": 4,
 "nbformat_minor": 4
}
